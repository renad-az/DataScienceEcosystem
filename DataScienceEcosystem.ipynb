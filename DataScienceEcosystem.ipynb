{
 "cells": [
  {
   "cell_type": "markdown",
   "id": "d2ec7963-5d7c-4069-a359-7abcb384672b",
   "metadata": {},
   "source": [
    "## Data Science Tools and Ecosystem"
   ]
  },
  {
   "cell_type": "markdown",
   "id": "8e46aff3-9783-49f4-80e0-7fae345e0190",
   "metadata": {},
   "source": [
    "In this noetebook, Data Science Tools and Ecosystem are summarized."
   ]
  },
  {
   "cell_type": "markdown",
   "id": "8f453399-eda9-4ca9-a8d8-dddb3e17adfc",
   "metadata": {},
   "source": [
    "Some of the popular languges that Scientists use are:\n",
    "1. Python\n",
    "2. R\n",
    "3.SQL\n",
    "4.C++\n",
    "5.Java etc..;"
   ]
  },
  {
   "cell_type": "markdown",
   "id": "5334a202-155a-42cc-aa1e-8af9dbd3a382",
   "metadata": {},
   "source": [
    "Some of the commonly uesd libraries uesd by the Data Scientists include:\n",
    "1.NumOy\n",
    "2.Karas\n",
    "3.Pandas"
   ]
  },
  {
   "cell_type": "markdown",
   "id": "b40b0562-b8e4-4580-9208-353665772d24",
   "metadata": {},
   "source": [
    "|Data Sciennce |\n",
    "|----|\n",
    "|SAS|\n",
    "|Apache Hadoop|\n"
   ]
  },
  {
   "cell_type": "code",
   "execution_count": null,
   "id": "064f4fa8-0c7a-470b-868c-f57fb6b704c6",
   "metadata": {},
   "outputs": [],
   "source": [
    "Below are a few example of evaluating arihmetic expreeions in Python"
   ]
  },
  {
   "cell_type": "code",
   "execution_count": 5,
   "id": "beac15f7-085f-47f8-a48b-21fa5842afba",
   "metadata": {},
   "outputs": [
    {
     "name": "stdout",
     "output_type": "stream",
     "text": [
      "52\n",
      "28\n",
      "480\n",
      "3.3333333333333335\n"
     ]
    }
   ],
   "source": [
    "# Arithmetic Expressions \n",
    "x = 40\n",
    "y = 12\n",
    "  \n",
    "add = x + y \n",
    "sub = x - y \n",
    "pro = x * y \n",
    "div = x / y \n",
    "  \n",
    "print(add) \n",
    "print(sub) \n",
    "print(pro) \n",
    "print(div)"
   ]
  },
  {
   "cell_type": "code",
   "execution_count": 6,
   "id": "e51c0c29-418f-4e3b-a341-e6b9b62809fb",
   "metadata": {},
   "outputs": [
    {
     "name": "stdout",
     "output_type": "stream",
     "text": [
      "25\n"
     ]
    }
   ],
   "source": [
    "# Integral Expressions \n",
    "a = 13\n",
    "b = 12.0\n",
    "\n",
    "c = a + int(b) \n",
    "print(c)\n"
   ]
  },
  {
   "cell_type": "code",
   "execution_count": 7,
   "id": "c338a921-4f72-4a80-a52b-beb344839f24",
   "metadata": {},
   "outputs": [
    {
     "name": "stdout",
     "output_type": "stream",
     "text": [
      "2.6\n"
     ]
    }
   ],
   "source": [
    "# Floating Expressions \n",
    "a = 13\n",
    "b = 5\n",
    "\n",
    "c = a / b \n",
    "print(c)\n"
   ]
  },
  {
   "cell_type": "markdown",
   "id": "9c915a73-4ad6-48f5-a64c-81e0525d3a5a",
   "metadata": {},
   "source": [
    "objective\n",
    "List Popular languages for Data science\n",
    "List popular libraries for Data science\n",
    "List of well Known Data Science Tools\n",
    "How to Provide comments in the cell"
   ]
  },
  {
   "cell_type": "markdown",
   "id": "7c15d2a9-7e96-47f1-ab08-730392d7d5a1",
   "metadata": {},
   "source": [
    "## Author\n",
    "Gourav kumar"
   ]
  }
 ],
 "metadata": {
  "kernelspec": {
   "display_name": "Python 3 (ipykernel)",
   "language": "python",
   "name": "python3"
  },
  "language_info": {
   "codemirror_mode": {
    "name": "ipython",
    "version": 3
   },
   "file_extension": ".py",
   "mimetype": "text/x-python",
   "name": "python",
   "nbconvert_exporter": "python",
   "pygments_lexer": "ipython3",
   "version": "3.12.1"
  }
 },
 "nbformat": 4,
 "nbformat_minor": 5
}
